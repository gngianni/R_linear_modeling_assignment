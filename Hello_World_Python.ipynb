{
 "cells": [
  {
   "cell_type": "markdown",
   "id": "4bb9a5e7-920d-4515-961d-cac20bf857d9",
   "metadata": {},
   "source": [
    "# My wonderful python script that says \"Hello World\" to my amazing professor"
   ]
  },
  {
   "cell_type": "code",
   "execution_count": 1,
   "id": "bf757140-6b85-474f-95d9-6cac3e1f92b9",
   "metadata": {
    "tags": []
   },
   "outputs": [
    {
     "name": "stdout",
     "output_type": "stream",
     "text": [
      "Hello World\n"
     ]
    }
   ],
   "source": [
    "print(\"Hello World\")"
   ]
  }
 ],
 "metadata": {
  "kernelspec": {
   "display_name": "Python 3 (ipykernel)",
   "language": "python",
   "name": "python3"
  },
  "language_info": {
   "codemirror_mode": {
    "name": "ipython",
    "version": 3
   },
   "file_extension": ".py",
   "mimetype": "text/x-python",
   "name": "python",
   "nbconvert_exporter": "python",
   "pygments_lexer": "ipython3",
   "version": "3.11.4"
  }
 },
 "nbformat": 4,
 "nbformat_minor": 5
}
